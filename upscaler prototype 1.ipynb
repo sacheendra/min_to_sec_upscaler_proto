{
 "cells": [
  {
   "cell_type": "code",
   "execution_count": 10,
   "metadata": {},
   "outputs": [],
   "source": [
    "import pandas as pd\n",
    "import numpy as np\n",
    "from plotnine import *\n",
    "import os\n",
    "import math\n",
    "from scipy.signal import savgol_filter\n",
    "from stochastic.processes.continuous import FractionalBrownianMotion"
   ]
  },
  {
   "cell_type": "code",
   "execution_count": 11,
   "metadata": {},
   "outputs": [],
   "source": [
    "jumpdf = pd.read_csv('20min_very_high_patterns/jump.csv')\n",
    "minute_rate_arr = jumpdf['InvocationsPerMinute'].values"
   ]
  },
  {
   "cell_type": "code",
   "execution_count": 12,
   "metadata": {},
   "outputs": [
    {
     "data": {
      "image/png": "[encoded data removed]",
      "text/plain": [
       "<Figure size 640x480 with 1 Axes>"
      ]
     },
     "metadata": {},
     "output_type": "display_data"
    },
    {
     "data": {
      "text/plain": [
       "<ggplot: (284522234)>"
      ]
     },
     "execution_count": 12,
     "metadata": {},
     "output_type": "execute_result"
    }
   ],
   "source": [
    "def upscale(minute_rate_arr):\n",
    "    bm = FractionalBrownianMotion(hurst=0.8, t=10)\n",
    "    samples = bm.sample(60 * len(minute_rate_arr)) * 10 # Need to increase magnitude or values become too small\n",
    "    all_upscaled_samples = samples + np.abs(np.floor(samples.min()))\n",
    "\n",
    "    per_second_rates = np.array([])\n",
    "    for i in range(len(minute_rate_arr)):\n",
    "        current_rate_minute = minute_rate_arr[i]\n",
    "        upscaled_samples = all_upscaled_samples[i*60:(i+1)*60]\n",
    "\n",
    "        # Scale random samples by actual request rate per minute\n",
    "        total_units = upscaled_samples.sum()\n",
    "        requests_per_unit = current_rate_minute / total_units\n",
    "        upscaled_samples = np.round(upscaled_samples * requests_per_unit)\n",
    "\n",
    "        per_second_rates = np.append(per_second_rates, upscaled_samples)\n",
    "    \n",
    "    return per_second_rates\n",
    "\n",
    "per_second_rates = upscale(minute_rate_arr)\n",
    "ggplot() +\\\n",
    "    geom_line(aes(x=range(len(per_second_rates)), y=per_second_rates)) +\\\n",
    "    geom_vline(aes(xintercept=range(0, 1250, 60)))"
   ]
  },
  {
   "cell_type": "code",
   "execution_count": 13,
   "metadata": {},
   "outputs": [],
   "source": [
    "# Convert to k6 stages\n",
    "# Write json\n",
    "\n",
    "ia = np.array(per_second_rates)\n",
    "n = len(ia)\n",
    "element_does_not_match_prev = per_second_rates[1:] != per_second_rates[:-1]\n",
    "positions_where_element_does_not_match = np.append(np.where(element_does_not_match_prev), n - 1)\n",
    "run_lengths = np.diff(np.append(-1, positions_where_element_does_not_match))\n",
    "key_elements = per_second_rates[positions_where_element_does_not_match]"
   ]
  },
  {
   "cell_type": "code",
   "execution_count": 14,
   "metadata": {},
   "outputs": [
    {
     "data": {
      "text/plain": [
       "{'stages': [{'duration': '60s', 'target': 1},\n",
       "  {'duration': '180s', 'target': 3},\n",
       "  {'duration': '38s', 'target': 5},\n",
       "  {'duration': '22s', 'target': 4},\n",
       "  {'duration': '10s', 'target': 5},\n",
       "  {'duration': '50s', 'target': 4},\n",
       "  {'duration': '30s', 'target': 5},\n",
       "  {'duration': '90s', 'target': 4},\n",
       "  {'duration': '33s', 'target': 3},\n",
       "  {'duration': '27s', 'target': 2},\n",
       "  {'duration': '6s', 'target': 5},\n",
       "  {'duration': '9s', 'target': 4},\n",
       "  {'duration': '66s', 'target': 3},\n",
       "  {'duration': '99s', 'target': 2},\n",
       "  {'duration': '34s', 'target': 3},\n",
       "  {'duration': '17s', 'target': 2},\n",
       "  {'duration': '9s', 'target': 3},\n",
       "  {'duration': '2s', 'target': 1},\n",
       "  {'duration': '58s', 'target': 2},\n",
       "  {'duration': '16s', 'target': 4},\n",
       "  {'duration': '16s', 'target': 3},\n",
       "  {'duration': '28s', 'target': 2},\n",
       "  {'duration': '1s', 'target': 7},\n",
       "  {'duration': '4s', 'target': 6},\n",
       "  {'duration': '5s', 'target': 5},\n",
       "  {'duration': '8s', 'target': 4},\n",
       "  {'duration': '10s', 'target': 3},\n",
       "  {'duration': '6s', 'target': 2},\n",
       "  {'duration': '30s', 'target': 1},\n",
       "  {'duration': '41s', 'target': 2},\n",
       "  {'duration': '4s', 'target': 3},\n",
       "  {'duration': '7s', 'target': 2},\n",
       "  {'duration': '2s', 'target': 1},\n",
       "  {'duration': '2s', 'target': 2},\n",
       "  {'duration': '7s', 'target': 1},\n",
       "  {'duration': '37s', 'target': 2},\n",
       "  {'duration': '16s', 'target': 3},\n",
       "  {'duration': '7s', 'target': 6},\n",
       "  {'duration': '6s', 'target': 5},\n",
       "  {'duration': '3s', 'target': 4},\n",
       "  {'duration': '5s', 'target': 3},\n",
       "  {'duration': '1s', 'target': 2},\n",
       "  {'duration': '1s', 'target': 3},\n",
       "  {'duration': '26s', 'target': 2},\n",
       "  {'duration': '5s', 'target': 1},\n",
       "  {'duration': '6s', 'target': 2},\n",
       "  {'duration': '11s', 'target': 1},\n",
       "  {'duration': '28s', 'target': 2},\n",
       "  {'duration': '21s', 'target': 3}],\n",
       " 'timeUnit': '1s',\n",
       " 'preAllocatedVUs': 1}"
      ]
     },
     "execution_count": 14,
     "metadata": {},
     "output_type": "execute_result"
    }
   ],
   "source": [
    "stage_list = []\n",
    "for i in range(len(key_elements)):\n",
    "    stage_list.append({\n",
    "        'duration': str(run_lengths[i]) + 's',\n",
    "        'target': int(key_elements[i])\n",
    "    })\n",
    "config_object = {\n",
    "    'stages': stage_list,\n",
    "    'timeUnit': '1s',\n",
    "    'preAllocatedVUs': 1\n",
    "}\n",
    "config_object"
   ]
  }
 ],
 "metadata": {
  "kernelspec": {
   "display_name": "Python 3",
   "language": "python",
   "name": "python3"
  },
  "language_info": {
   "codemirror_mode": {
    "name": "ipython",
    "version": 3
   },
   "file_extension": ".py",
   "mimetype": "text/x-python",
   "name": "python",
   "nbconvert_exporter": "python",
   "pygments_lexer": "ipython3",
   "version": "3.8.5"
  }
 },
 "nbformat": 4,
 "nbformat_minor": 4
}
